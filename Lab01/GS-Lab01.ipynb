{
  "metadata": {
    "kernelspec": {
      "language": "python",
      "display_name": "Python 3",
      "name": "python3"
    },
    "language_info": {
      "name": "python",
      "version": "3.10.14",
      "mimetype": "text/x-python",
      "codemirror_mode": {
        "name": "ipython",
        "version": 3
      },
      "pygments_lexer": "ipython3",
      "nbconvert_exporter": "python",
      "file_extension": ".py"
    },
    "kaggle": {
      "accelerator": "none",
      "dataSources": [],
      "dockerImageVersionId": 30775,
      "isInternetEnabled": true,
      "language": "python",
      "sourceType": "notebook",
      "isGpuEnabled": false
    },
    "colab": {
      "name": "RN-2024-Lab01",
      "provenance": [],
      "include_colab_link": true
    }
  },
  "nbformat_minor": 0,
  "nbformat": 4,
  "cells": [
    {
      "cell_type": "markdown",
      "metadata": {
        "id": "view-in-github",
        "colab_type": "text"
      },
      "source": [
        "<a href=\"https://colab.research.google.com/github/Tensor-Reloaded/Neural-Networks-Template-2024/blob/main/Lab01/GS-Lab01.ipynb\" target=\"_parent\"><img src=\"https://colab.research.google.com/assets/colab-badge.svg\" alt=\"Open In Colab\"/></a>"
      ]
    },
    {
      "cell_type": "markdown",
      "source": [
        "# Python fundamentals"
      ],
      "metadata": {
        "id": "_a3mzLZrN76-"
      }
    },
    {
      "cell_type": "markdown",
      "source": [
        "### Data types"
      ],
      "metadata": {
        "id": "gXqYekvjN76-"
      }
    },
    {
      "cell_type": "code",
      "source": [
        "a = 5\n",
        "print(type(a))"
      ],
      "metadata": {
        "execution": {
          "iopub.status.busy": "2024-10-02T11:44:03.950493Z",
          "iopub.execute_input": "2024-10-02T11:44:03.951372Z",
          "iopub.status.idle": "2024-10-02T11:44:03.983787Z",
          "shell.execute_reply.started": "2024-10-02T11:44:03.951322Z",
          "shell.execute_reply": "2024-10-02T11:44:03.982322Z"
        },
        "trusted": true,
        "id": "3MhBylJEN76_",
        "outputId": "828143cf-a5d8-4023-98e5-0e22ddeeb56a",
        "colab": {
          "base_uri": "https://localhost:8080/"
        }
      },
      "execution_count": 1,
      "outputs": [
        {
          "output_type": "stream",
          "name": "stdout",
          "text": [
            "<class 'int'>\n"
          ]
        }
      ]
    },
    {
      "cell_type": "code",
      "source": [
        "a = 5.0\n",
        "print(type(a))"
      ],
      "metadata": {
        "execution": {
          "iopub.status.busy": "2024-10-02T11:44:36.109006Z",
          "iopub.execute_input": "2024-10-02T11:44:36.10948Z",
          "iopub.status.idle": "2024-10-02T11:44:36.117591Z",
          "shell.execute_reply.started": "2024-10-02T11:44:36.109437Z",
          "shell.execute_reply": "2024-10-02T11:44:36.116327Z"
        },
        "trusted": true,
        "id": "wodi_gU9N76_",
        "outputId": "db2ab82d-6cd3-419e-8631-3584965838bd",
        "colab": {
          "base_uri": "https://localhost:8080/"
        }
      },
      "execution_count": 2,
      "outputs": [
        {
          "output_type": "stream",
          "name": "stdout",
          "text": [
            "<class 'float'>\n"
          ]
        }
      ]
    },
    {
      "cell_type": "code",
      "source": [
        "a = '5'\n",
        "print(type(a))"
      ],
      "metadata": {
        "execution": {
          "iopub.status.busy": "2024-10-02T11:45:05.270755Z",
          "iopub.execute_input": "2024-10-02T11:45:05.271206Z",
          "iopub.status.idle": "2024-10-02T11:45:05.279648Z",
          "shell.execute_reply.started": "2024-10-02T11:45:05.27116Z",
          "shell.execute_reply": "2024-10-02T11:45:05.278196Z"
        },
        "trusted": true,
        "id": "tHznwFqRN77A",
        "outputId": "a80c710e-29cc-4b93-a78a-9e1df32b9fa9",
        "colab": {
          "base_uri": "https://localhost:8080/"
        }
      },
      "execution_count": 3,
      "outputs": [
        {
          "output_type": "stream",
          "name": "stdout",
          "text": [
            "<class 'str'>\n"
          ]
        }
      ]
    },
    {
      "cell_type": "code",
      "source": [
        "a = True\n",
        "print(type(a))"
      ],
      "metadata": {
        "execution": {
          "iopub.status.busy": "2024-10-02T11:45:06.795423Z",
          "iopub.execute_input": "2024-10-02T11:45:06.796862Z",
          "iopub.status.idle": "2024-10-02T11:45:06.804179Z",
          "shell.execute_reply.started": "2024-10-02T11:45:06.796802Z",
          "shell.execute_reply": "2024-10-02T11:45:06.802988Z"
        },
        "trusted": true,
        "id": "djbJqdr6N77A",
        "outputId": "8f96627f-664e-44e6-ecf2-e56d5c772fbf",
        "colab": {
          "base_uri": "https://localhost:8080/"
        }
      },
      "execution_count": 4,
      "outputs": [
        {
          "output_type": "stream",
          "name": "stdout",
          "text": [
            "<class 'bool'>\n"
          ]
        }
      ]
    },
    {
      "cell_type": "markdown",
      "source": [
        "## Containers"
      ],
      "metadata": {
        "id": "QGqwl2wbN77A"
      }
    },
    {
      "cell_type": "code",
      "source": [
        "a_list = [1, 2, 2, 3.0, '5']\n",
        "print(a_list)\n",
        "print(type(a_list))"
      ],
      "metadata": {
        "execution": {
          "iopub.status.busy": "2024-10-02T11:49:29.58574Z",
          "iopub.execute_input": "2024-10-02T11:49:29.586322Z",
          "iopub.status.idle": "2024-10-02T11:49:29.594511Z",
          "shell.execute_reply.started": "2024-10-02T11:49:29.586194Z",
          "shell.execute_reply": "2024-10-02T11:49:29.592585Z"
        },
        "trusted": true,
        "id": "lZIuCa6RN77A",
        "outputId": "a44dffe3-0e10-4b31-da9f-8213b058f4af",
        "colab": {
          "base_uri": "https://localhost:8080/"
        }
      },
      "execution_count": 5,
      "outputs": [
        {
          "output_type": "stream",
          "name": "stdout",
          "text": [
            "[1, 2, 2, 3.0, '5']\n",
            "<class 'list'>\n"
          ]
        }
      ]
    },
    {
      "cell_type": "code",
      "source": [
        "a_set = set(a_list)\n",
        "print(a_set)\n",
        "print(type(a_set))\n",
        "a_set = {1, 2, 3, 4}\n",
        "print(a_set)"
      ],
      "metadata": {
        "execution": {
          "iopub.status.busy": "2024-10-02T11:49:31.006854Z",
          "iopub.execute_input": "2024-10-02T11:49:31.00734Z",
          "iopub.status.idle": "2024-10-02T11:49:31.015648Z",
          "shell.execute_reply.started": "2024-10-02T11:49:31.007296Z",
          "shell.execute_reply": "2024-10-02T11:49:31.014282Z"
        },
        "trusted": true,
        "id": "a0KAR2ExN77B",
        "outputId": "2f9d7efb-2689-4679-d59a-54289e3ccc5c",
        "colab": {
          "base_uri": "https://localhost:8080/"
        }
      },
      "execution_count": 6,
      "outputs": [
        {
          "output_type": "stream",
          "name": "stdout",
          "text": [
            "{'5', 1, 2, 3.0}\n",
            "<class 'set'>\n",
            "{1, 2, 3, 4}\n"
          ]
        }
      ]
    },
    {
      "cell_type": "code",
      "source": [
        "a_dict = {\n",
        "    1: 'unu',\n",
        "    'doi': 2,\n",
        "    3.0: a_set\n",
        "}\n",
        "print(\"Keys:\\t\", list(a_dict.keys()))\n",
        "print(\"Values:\\t\", list(a_dict.values()))\n",
        "print(a_dict)\n",
        "print(type(a_dict))"
      ],
      "metadata": {
        "_uuid": "8f2839f25d086af736a60e9eeb907d3b93b6e0e5",
        "_cell_guid": "b1076dfc-b9ad-4769-8c92-a6c4dae69d19",
        "execution": {
          "iopub.status.busy": "2024-10-02T11:50:25.927682Z",
          "iopub.execute_input": "2024-10-02T11:50:25.928643Z",
          "iopub.status.idle": "2024-10-02T11:50:25.936764Z",
          "shell.execute_reply.started": "2024-10-02T11:50:25.928589Z",
          "shell.execute_reply": "2024-10-02T11:50:25.934781Z"
        },
        "trusted": true,
        "id": "Dmtitx5PN77B",
        "outputId": "8559fbd1-7b0f-4555-8af1-f739baae41ea",
        "colab": {
          "base_uri": "https://localhost:8080/"
        }
      },
      "execution_count": 7,
      "outputs": [
        {
          "output_type": "stream",
          "name": "stdout",
          "text": [
            "Keys:\t [1, 'doi', 3.0]\n",
            "Values:\t ['unu', 2, {1, 2, 3, 4}]\n",
            "{1: 'unu', 'doi': 2, 3.0: {1, 2, 3, 4}}\n",
            "<class 'dict'>\n"
          ]
        }
      ]
    },
    {
      "cell_type": "markdown",
      "source": [
        "## Functions"
      ],
      "metadata": {
        "id": "EE6My2IjN77B"
      }
    },
    {
      "cell_type": "code",
      "source": [
        "def add_two_values(a, b):\n",
        "    return a + b\n",
        "\n",
        "add_two_values(5, 6)"
      ],
      "metadata": {
        "execution": {
          "iopub.status.busy": "2024-10-02T11:51:31.893551Z",
          "iopub.execute_input": "2024-10-02T11:51:31.894016Z",
          "iopub.status.idle": "2024-10-02T11:51:31.904305Z",
          "shell.execute_reply.started": "2024-10-02T11:51:31.893971Z",
          "shell.execute_reply": "2024-10-02T11:51:31.902815Z"
        },
        "trusted": true,
        "id": "nX8fadHKN77B",
        "outputId": "ecbbfb87-f1cb-49fd-9a03-0c6d5c35720e",
        "colab": {
          "base_uri": "https://localhost:8080/"
        }
      },
      "execution_count": 8,
      "outputs": [
        {
          "output_type": "execute_result",
          "data": {
            "text/plain": [
              "11"
            ]
          },
          "metadata": {},
          "execution_count": 8
        }
      ]
    },
    {
      "cell_type": "code",
      "source": [
        "def multiply(a: float, b: float) -> float:\n",
        "    return a * b\n",
        "\n",
        "multiply(4.0, 5.0)"
      ],
      "metadata": {
        "execution": {
          "iopub.status.busy": "2024-10-02T11:52:16.544522Z",
          "iopub.execute_input": "2024-10-02T11:52:16.545022Z",
          "iopub.status.idle": "2024-10-02T11:52:16.554614Z",
          "shell.execute_reply.started": "2024-10-02T11:52:16.544976Z",
          "shell.execute_reply": "2024-10-02T11:52:16.553091Z"
        },
        "trusted": true,
        "id": "ZsQjTrEAN77B",
        "outputId": "ccc4b230-0930-4080-9bc3-81662bc4ef06",
        "colab": {
          "base_uri": "https://localhost:8080/"
        }
      },
      "execution_count": 9,
      "outputs": [
        {
          "output_type": "execute_result",
          "data": {
            "text/plain": [
              "20.0"
            ]
          },
          "metadata": {},
          "execution_count": 9
        }
      ]
    },
    {
      "cell_type": "code",
      "source": [
        "multiply(\"AB\", 2)"
      ],
      "metadata": {
        "execution": {
          "iopub.status.busy": "2024-10-02T11:52:50.763543Z",
          "iopub.execute_input": "2024-10-02T11:52:50.76403Z",
          "iopub.status.idle": "2024-10-02T11:52:50.773893Z",
          "shell.execute_reply.started": "2024-10-02T11:52:50.763985Z",
          "shell.execute_reply": "2024-10-02T11:52:50.772157Z"
        },
        "trusted": true,
        "id": "7Nw6RLGEN77B",
        "outputId": "bab94db1-eebe-45ec-ee13-93b400a97240",
        "colab": {
          "base_uri": "https://localhost:8080/",
          "height": 35
        }
      },
      "execution_count": 10,
      "outputs": [
        {
          "output_type": "execute_result",
          "data": {
            "text/plain": [
              "'ABAB'"
            ],
            "application/vnd.google.colaboratory.intrinsic+json": {
              "type": "string"
            }
          },
          "metadata": {},
          "execution_count": 10
        }
      ]
    },
    {
      "cell_type": "markdown",
      "source": [
        "# Numpy"
      ],
      "metadata": {
        "id": "0s-6p0HkN77B"
      }
    },
    {
      "cell_type": "markdown",
      "source": [
        "Check: https://numpy.org/doc/stable/user/absolute_beginners.html"
      ],
      "metadata": {
        "id": "CCnrJDOSN77C"
      }
    },
    {
      "cell_type": "markdown",
      "source": [
        "### Installing 3rd party libraries"
      ],
      "metadata": {
        "id": "GFKeqvW9N77C"
      }
    },
    {
      "cell_type": "code",
      "source": [
        "%pip install numpy"
      ],
      "metadata": {
        "execution": {
          "iopub.status.busy": "2024-10-02T12:03:47.809067Z",
          "iopub.execute_input": "2024-10-02T12:03:47.809536Z",
          "iopub.status.idle": "2024-10-02T12:04:02.676853Z",
          "shell.execute_reply.started": "2024-10-02T12:03:47.809488Z",
          "shell.execute_reply": "2024-10-02T12:04:02.675064Z"
        },
        "trusted": true,
        "id": "Do-AheAqN77C",
        "outputId": "9eda3651-b203-4654-ab46-ed90c1fd423d",
        "colab": {
          "base_uri": "https://localhost:8080/"
        }
      },
      "execution_count": 11,
      "outputs": [
        {
          "output_type": "stream",
          "name": "stdout",
          "text": [
            "Requirement already satisfied: numpy in /usr/local/lib/python3.10/dist-packages (1.26.4)\n"
          ]
        }
      ]
    },
    {
      "cell_type": "code",
      "source": [
        "%pip install timed-decorator"
      ],
      "metadata": {
        "execution": {
          "iopub.status.busy": "2024-10-02T12:04:04.698732Z",
          "iopub.execute_input": "2024-10-02T12:04:04.699355Z",
          "iopub.status.idle": "2024-10-02T12:04:19.723462Z",
          "shell.execute_reply.started": "2024-10-02T12:04:04.699297Z",
          "shell.execute_reply": "2024-10-02T12:04:19.721813Z"
        },
        "trusted": true,
        "id": "4p6EbtLjN77C",
        "outputId": "cd269bec-df60-462e-b477-8e0cdca803bb",
        "colab": {
          "base_uri": "https://localhost:8080/"
        }
      },
      "execution_count": 12,
      "outputs": [
        {
          "output_type": "stream",
          "name": "stdout",
          "text": [
            "Collecting timed-decorator\n",
            "  Downloading timed_decorator-1.5.2-py3-none-any.whl.metadata (18 kB)\n",
            "Downloading timed_decorator-1.5.2-py3-none-any.whl (12 kB)\n",
            "Installing collected packages: timed-decorator\n",
            "Successfully installed timed-decorator-1.5.2\n"
          ]
        }
      ]
    },
    {
      "cell_type": "code",
      "source": [
        "import numpy as np\n",
        "from math import sqrt\n",
        "from timed_decorator.simple_timed import timed"
      ],
      "metadata": {
        "execution": {
          "iopub.status.busy": "2024-10-02T12:19:17.823585Z",
          "iopub.execute_input": "2024-10-02T12:19:17.82417Z",
          "iopub.status.idle": "2024-10-02T12:19:17.830611Z",
          "shell.execute_reply.started": "2024-10-02T12:19:17.824114Z",
          "shell.execute_reply": "2024-10-02T12:19:17.829095Z"
        },
        "trusted": true,
        "id": "1fJntYrkN77C"
      },
      "execution_count": 13,
      "outputs": []
    },
    {
      "cell_type": "code",
      "source": [
        "x = np.random.uniform(low=-5.5, high=5.5, size=(50,))\n",
        "x"
      ],
      "metadata": {
        "execution": {
          "iopub.status.busy": "2024-10-02T12:08:13.211484Z",
          "iopub.execute_input": "2024-10-02T12:08:13.212593Z",
          "iopub.status.idle": "2024-10-02T12:08:13.223296Z",
          "shell.execute_reply.started": "2024-10-02T12:08:13.212525Z",
          "shell.execute_reply": "2024-10-02T12:08:13.221925Z"
        },
        "trusted": true,
        "id": "6tJVb2RVN77C",
        "outputId": "49a7790a-c10b-4b11-9d3d-0867ed0b6e8e",
        "colab": {
          "base_uri": "https://localhost:8080/"
        }
      },
      "execution_count": 14,
      "outputs": [
        {
          "output_type": "execute_result",
          "data": {
            "text/plain": [
              "array([-2.92465367,  1.50759606, -5.14991639,  4.23413968,  1.37215904,\n",
              "        3.79694847,  5.36433436,  0.56134292,  4.40147179, -3.87773789,\n",
              "        2.36393967, -1.08558959, -1.29947992,  4.0523888 , -5.21689645,\n",
              "        1.5899667 , -1.41131612, -3.41605362,  4.81038723,  3.37645217,\n",
              "        3.91914075, -4.32722127, -4.49518019,  5.24820089, -2.16359939,\n",
              "        4.55065239, -3.91656247,  3.11777147, -1.74905479, -4.92363452,\n",
              "        0.5641108 ,  5.44585604,  1.76571993, -4.02190561, -3.35994233,\n",
              "        2.22149682,  4.09812071, -5.31378155,  3.09220168,  0.82222951,\n",
              "       -2.97023823,  3.97970516,  4.94502425,  4.66218484, -3.03010706,\n",
              "        1.60183493, -2.73897351,  2.21758158, -3.26180894, -4.48488403])"
            ]
          },
          "metadata": {},
          "execution_count": 14
        }
      ]
    },
    {
      "cell_type": "code",
      "source": [
        "x > 0"
      ],
      "metadata": {
        "execution": {
          "iopub.status.busy": "2024-10-02T12:08:20.88504Z",
          "iopub.execute_input": "2024-10-02T12:08:20.885553Z",
          "iopub.status.idle": "2024-10-02T12:08:20.895173Z",
          "shell.execute_reply.started": "2024-10-02T12:08:20.885509Z",
          "shell.execute_reply": "2024-10-02T12:08:20.894109Z"
        },
        "trusted": true,
        "id": "A1lC4YMON77C",
        "outputId": "8e434704-de21-4c1b-a2f5-32f935f84201",
        "colab": {
          "base_uri": "https://localhost:8080/"
        }
      },
      "execution_count": 15,
      "outputs": [
        {
          "output_type": "execute_result",
          "data": {
            "text/plain": [
              "array([False,  True, False,  True,  True,  True,  True,  True,  True,\n",
              "       False,  True, False, False,  True, False,  True, False, False,\n",
              "        True,  True,  True, False, False,  True, False,  True, False,\n",
              "        True, False, False,  True,  True,  True, False, False,  True,\n",
              "        True, False,  True,  True, False,  True,  True,  True, False,\n",
              "        True, False,  True, False, False])"
            ]
          },
          "metadata": {},
          "execution_count": 15
        }
      ]
    },
    {
      "cell_type": "code",
      "source": [
        "x[x > 0]"
      ],
      "metadata": {
        "execution": {
          "iopub.status.busy": "2024-10-02T12:08:31.800418Z",
          "iopub.execute_input": "2024-10-02T12:08:31.800889Z",
          "iopub.status.idle": "2024-10-02T12:08:31.81006Z",
          "shell.execute_reply.started": "2024-10-02T12:08:31.800844Z",
          "shell.execute_reply": "2024-10-02T12:08:31.80875Z"
        },
        "trusted": true,
        "id": "cSi7wI_jN77C",
        "outputId": "44359b08-1539-425b-e73f-d9da24852ee3",
        "colab": {
          "base_uri": "https://localhost:8080/"
        }
      },
      "execution_count": 16,
      "outputs": [
        {
          "output_type": "execute_result",
          "data": {
            "text/plain": [
              "array([1.50759606, 4.23413968, 1.37215904, 3.79694847, 5.36433436,\n",
              "       0.56134292, 4.40147179, 2.36393967, 4.0523888 , 1.5899667 ,\n",
              "       4.81038723, 3.37645217, 3.91914075, 5.24820089, 4.55065239,\n",
              "       3.11777147, 0.5641108 , 5.44585604, 1.76571993, 2.22149682,\n",
              "       4.09812071, 3.09220168, 0.82222951, 3.97970516, 4.94502425,\n",
              "       4.66218484, 1.60183493, 2.21758158])"
            ]
          },
          "metadata": {},
          "execution_count": 16
        }
      ]
    },
    {
      "cell_type": "code",
      "source": [
        "list(x)"
      ],
      "metadata": {
        "execution": {
          "iopub.status.busy": "2024-10-02T12:08:47.36438Z",
          "iopub.execute_input": "2024-10-02T12:08:47.364834Z",
          "iopub.status.idle": "2024-10-02T12:08:47.374292Z",
          "shell.execute_reply.started": "2024-10-02T12:08:47.364789Z",
          "shell.execute_reply": "2024-10-02T12:08:47.372842Z"
        },
        "trusted": true,
        "id": "9WcCYeb4N77C",
        "outputId": "9b49d4d9-cec5-4ee0-c382-59668034bb20",
        "colab": {
          "base_uri": "https://localhost:8080/"
        }
      },
      "execution_count": 17,
      "outputs": [
        {
          "output_type": "execute_result",
          "data": {
            "text/plain": [
              "[-2.924653665887048,\n",
              " 1.5075960640568429,\n",
              " -5.149916390687454,\n",
              " 4.2341396796571935,\n",
              " 1.3721590394515717,\n",
              " 3.796948474671476,\n",
              " 5.364334362985888,\n",
              " 0.561342917774005,\n",
              " 4.401471791646525,\n",
              " -3.8777378927161608,\n",
              " 2.3639396682059175,\n",
              " -1.0855895873868473,\n",
              " -1.299479919487931,\n",
              " 4.05238880318778,\n",
              " -5.216896449087105,\n",
              " 1.5899666960427536,\n",
              " -1.411316115565354,\n",
              " -3.41605362170798,\n",
              " 4.810387225154631,\n",
              " 3.376452171294357,\n",
              " 3.9191407517454735,\n",
              " -4.327221272786474,\n",
              " -4.495180188442527,\n",
              " 5.248200889135221,\n",
              " -2.163599392250142,\n",
              " 4.550652389636829,\n",
              " -3.91656246982821,\n",
              " 3.117771470345952,\n",
              " -1.7490547945145223,\n",
              " -4.923634517736714,\n",
              " 0.5641107961583476,\n",
              " 5.4458560384669035,\n",
              " 1.7657199339658423,\n",
              " -4.021905608137719,\n",
              " -3.3599423341662056,\n",
              " 2.221496818249026,\n",
              " 4.0981207053360365,\n",
              " -5.313781547381977,\n",
              " 3.0922016770559964,\n",
              " 0.8222295063923646,\n",
              " -2.970238234152717,\n",
              " 3.979705157808638,\n",
              " 4.945024249828052,\n",
              " 4.662184836712182,\n",
              " -3.030107058773623,\n",
              " 1.601834928741706,\n",
              " -2.738973511605792,\n",
              " 2.217581577172874,\n",
              " -3.261808936164609,\n",
              " -4.4848840292500745]"
            ]
          },
          "metadata": {},
          "execution_count": 17
        }
      ]
    },
    {
      "cell_type": "markdown",
      "source": [
        "## Comparing numpy arrays to python lists"
      ],
      "metadata": {
        "id": "rLM-vfVDN77C"
      }
    },
    {
      "cell_type": "code",
      "source": [
        "@timed(show_args=True, use_seconds=True)\n",
        "def normalize_np(x: np.ndarray) -> np.ndarray:\n",
        "    mean = np.mean(x)\n",
        "    std = np.std(x)\n",
        "    return (x - mean) / std\n",
        "\n",
        "@timed(show_args=True, use_seconds=True)\n",
        "def normalize_py(x: list) -> list:\n",
        "    mean = sum(x) / len(x)\n",
        "    var = sum([(i - mean) ** 2 for i in x]) / len(x)\n",
        "    std = sqrt(var)\n",
        "    return [(i - mean) / std for i in x]\n",
        "\n",
        "x = np.random.uniform(low=-5.5, high=5.5, size=(50000,)).astype(np.float64)\n",
        "y = list(x)\n",
        "normalized_x = normalize_np(x)\n",
        "normalized_y = normalize_py(y)\n",
        "assert np.allclose(normalized_x, normalized_y)"
      ],
      "metadata": {
        "execution": {
          "iopub.status.busy": "2024-10-02T12:23:10.974197Z",
          "iopub.execute_input": "2024-10-02T12:23:10.974691Z",
          "iopub.status.idle": "2024-10-02T12:23:11.440227Z",
          "shell.execute_reply.started": "2024-10-02T12:23:10.974645Z",
          "shell.execute_reply": "2024-10-02T12:23:11.43898Z"
        },
        "trusted": true,
        "id": "rQIw6SrzN77C",
        "outputId": "5c627081-9a8d-405d-de55-c68c9e4f173e",
        "colab": {
          "base_uri": "https://localhost:8080/"
        }
      },
      "execution_count": 18,
      "outputs": [
        {
          "output_type": "stream",
          "name": "stdout",
          "text": [
            "normalize_np(ndarray(50000,)) -> total time: 0.002762404s\n",
            "normalize_py(list(float64)[50000]) -> total time: 0.030542745s\n"
          ]
        }
      ]
    },
    {
      "cell_type": "markdown",
      "source": [
        "#### Python is slower than numpy in general"
      ],
      "metadata": {
        "id": "SsAyhEIFN77C"
      }
    },
    {
      "cell_type": "code",
      "source": [
        "%%timeit\n",
        "\n",
        "np.min(x)"
      ],
      "metadata": {
        "execution": {
          "iopub.status.busy": "2024-10-02T12:25:52.182079Z",
          "iopub.execute_input": "2024-10-02T12:25:52.182556Z",
          "iopub.status.idle": "2024-10-02T12:25:53.975332Z",
          "shell.execute_reply.started": "2024-10-02T12:25:52.182507Z",
          "shell.execute_reply": "2024-10-02T12:25:53.974039Z"
        },
        "trusted": true,
        "id": "lnHnoOpIN77C",
        "outputId": "17b58f1b-e636-457d-ebe2-a702ca1571d8",
        "colab": {
          "base_uri": "https://localhost:8080/"
        }
      },
      "execution_count": 19,
      "outputs": [
        {
          "output_type": "stream",
          "name": "stdout",
          "text": [
            "30.8 µs ± 4.14 µs per loop (mean ± std. dev. of 7 runs, 100000 loops each)\n"
          ]
        }
      ]
    },
    {
      "cell_type": "code",
      "source": [
        "%%timeit\n",
        "\n",
        "min(y)"
      ],
      "metadata": {
        "execution": {
          "iopub.status.busy": "2024-10-02T12:25:57.127966Z",
          "iopub.execute_input": "2024-10-02T12:25:57.128432Z",
          "iopub.status.idle": "2024-10-02T12:25:59.452513Z",
          "shell.execute_reply.started": "2024-10-02T12:25:57.128388Z",
          "shell.execute_reply": "2024-10-02T12:25:59.451406Z"
        },
        "trusted": true,
        "id": "SX9aZKnFN77C",
        "outputId": "1ea92e8c-4506-4ece-cfde-907836b3f199",
        "colab": {
          "base_uri": "https://localhost:8080/"
        }
      },
      "execution_count": 20,
      "outputs": [
        {
          "output_type": "stream",
          "name": "stdout",
          "text": [
            "2.43 ms ± 184 µs per loop (mean ± std. dev. of 7 runs, 100 loops each)\n"
          ]
        }
      ]
    },
    {
      "cell_type": "code",
      "source": [
        "a = np.random.uniform(low=-5.5, high=5.5, size=(50,)).astype(np.float64)\n",
        "b = list(a)\n"
      ],
      "metadata": {
        "execution": {
          "iopub.status.busy": "2024-10-02T12:26:42.991777Z",
          "iopub.execute_input": "2024-10-02T12:26:42.992272Z",
          "iopub.status.idle": "2024-10-02T12:26:42.998492Z",
          "shell.execute_reply.started": "2024-10-02T12:26:42.992226Z",
          "shell.execute_reply": "2024-10-02T12:26:42.997284Z"
        },
        "trusted": true,
        "id": "ionViVvwN77C"
      },
      "execution_count": 21,
      "outputs": []
    },
    {
      "cell_type": "code",
      "source": [
        "%%timeit\n",
        "\n",
        "np.min(a)"
      ],
      "metadata": {
        "execution": {
          "iopub.status.busy": "2024-10-02T12:26:43.456859Z",
          "iopub.execute_input": "2024-10-02T12:26:43.457362Z",
          "iopub.status.idle": "2024-10-02T12:26:48.16646Z",
          "shell.execute_reply.started": "2024-10-02T12:26:43.457317Z",
          "shell.execute_reply": "2024-10-02T12:26:48.165185Z"
        },
        "trusted": true,
        "id": "d0-CmmEnN77C",
        "outputId": "54ae6536-1708-4977-fa60-b7f4be698bca",
        "colab": {
          "base_uri": "https://localhost:8080/"
        }
      },
      "execution_count": 22,
      "outputs": [
        {
          "output_type": "stream",
          "name": "stdout",
          "text": [
            "4.46 µs ± 483 ns per loop (mean ± std. dev. of 7 runs, 100000 loops each)\n"
          ]
        }
      ]
    },
    {
      "cell_type": "code",
      "source": [
        "%%timeit\n",
        "\n",
        "min(b)"
      ],
      "metadata": {
        "execution": {
          "iopub.status.busy": "2024-10-02T12:26:48.168224Z",
          "iopub.execute_input": "2024-10-02T12:26:48.168601Z",
          "iopub.status.idle": "2024-10-02T12:26:50.625046Z",
          "shell.execute_reply.started": "2024-10-02T12:26:48.168545Z",
          "shell.execute_reply": "2024-10-02T12:26:50.62365Z"
        },
        "trusted": true,
        "id": "qwAy0mmKN77C",
        "outputId": "d23f12d2-7dbe-46f9-c094-a27af80ea4f5",
        "colab": {
          "base_uri": "https://localhost:8080/"
        }
      },
      "execution_count": 23,
      "outputs": [
        {
          "output_type": "stream",
          "name": "stdout",
          "text": [
            "1.49 µs ± 153 ns per loop (mean ± std. dev. of 7 runs, 1000000 loops each)\n"
          ]
        }
      ]
    },
    {
      "cell_type": "markdown",
      "source": [
        "## Inplace operations\n",
        "Use them when you can safely modify the input"
      ],
      "metadata": {
        "id": "blcMfOKaN77D"
      }
    },
    {
      "cell_type": "code",
      "source": [
        "@timed(show_args=True, use_seconds=True)\n",
        "def normalize_np_(x: np.ndarray) -> np.ndarray:\n",
        "    mean = np.mean(x)\n",
        "    std = np.std(x)\n",
        "    x -= mean\n",
        "    x /= std\n",
        "    return x"
      ],
      "metadata": {
        "execution": {
          "iopub.status.busy": "2024-10-02T12:31:42.025848Z",
          "iopub.execute_input": "2024-10-02T12:31:42.026297Z",
          "iopub.status.idle": "2024-10-02T12:31:42.032887Z",
          "shell.execute_reply.started": "2024-10-02T12:31:42.026254Z",
          "shell.execute_reply": "2024-10-02T12:31:42.031665Z"
        },
        "trusted": true,
        "id": "_HxkpvD7N77D"
      },
      "execution_count": 24,
      "outputs": []
    },
    {
      "cell_type": "code",
      "source": [
        "x = np.random.rand(100, 200)\n",
        "\n",
        "# This creates a copy\n",
        "y = normalize_np(x)\n",
        "assert not np.allclose(x, y)\n",
        "\n",
        "# Inplace operations modify the original array! But they are faster and use less memory.\n",
        "z = normalize_np_(x)\n",
        "assert np.array_equal(x, z)"
      ],
      "metadata": {
        "execution": {
          "iopub.status.busy": "2024-10-02T12:31:42.183658Z",
          "iopub.execute_input": "2024-10-02T12:31:42.184088Z",
          "iopub.status.idle": "2024-10-02T12:31:42.643647Z",
          "shell.execute_reply.started": "2024-10-02T12:31:42.184046Z",
          "shell.execute_reply": "2024-10-02T12:31:42.642302Z"
        },
        "trusted": true,
        "id": "fmN8W0qGN77D",
        "outputId": "0a621f9e-984e-46a8-9806-7906035697d0",
        "colab": {
          "base_uri": "https://localhost:8080/"
        }
      },
      "execution_count": 25,
      "outputs": [
        {
          "output_type": "stream",
          "name": "stdout",
          "text": [
            "normalize_np(ndarray(100, 200)) -> total time: 0.001544358s\n",
            "normalize_np_(ndarray(100, 200)) -> total time: 0.003900767s\n"
          ]
        }
      ]
    }
  ]
}